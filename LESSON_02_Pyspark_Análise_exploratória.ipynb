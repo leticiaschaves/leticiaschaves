{
  "cells": [
    {
      "cell_type": "markdown",
      "metadata": {
        "id": "view-in-github",
        "colab_type": "text"
      },
      "source": [
        "<a href=\"https://colab.research.google.com/github/leticiaschaves/leticiaschaves/blob/data-projects/LESSON_02_Pyspark_An%C3%A1lise_explorat%C3%B3ria.ipynb\" target=\"_parent\"><img src=\"https://colab.research.google.com/assets/colab-badge.svg\" alt=\"Open In Colab\"/></a>"
      ]
    },
    {
      "cell_type": "markdown",
      "metadata": {
        "id": "VarPHKuA5YQZ"
      },
      "source": [
        "# Análise exploratória com Pyspark"
      ]
    },
    {
      "cell_type": "code",
      "source": [
        "%pip install pyspark"
      ],
      "metadata": {
        "colab": {
          "base_uri": "https://localhost:8080/"
        },
        "id": "FT5l7Vbk6bjC",
        "outputId": "b98839a9-9134-4ca5-db52-c79e030e306d"
      },
      "execution_count": null,
      "outputs": [
        {
          "output_type": "stream",
          "name": "stdout",
          "text": [
            "Looking in indexes: https://pypi.org/simple, https://us-python.pkg.dev/colab-wheels/public/simple/\n",
            "Collecting pyspark\n",
            "  Downloading pyspark-3.3.1.tar.gz (281.4 MB)\n",
            "\u001b[K     |████████████████████████████████| 281.4 MB 42 kB/s \n",
            "\u001b[?25hCollecting py4j==0.10.9.5\n",
            "  Downloading py4j-0.10.9.5-py2.py3-none-any.whl (199 kB)\n",
            "\u001b[K     |████████████████████████████████| 199 kB 40.5 MB/s \n",
            "\u001b[?25hBuilding wheels for collected packages: pyspark\n",
            "  Building wheel for pyspark (setup.py) ... \u001b[?25l\u001b[?25hdone\n",
            "  Created wheel for pyspark: filename=pyspark-3.3.1-py2.py3-none-any.whl size=281845514 sha256=4f39467f026b5b5946a196d0c4a5e3ada9a21f241df8d389f7b9def34cb587ab\n",
            "  Stored in directory: /root/.cache/pip/wheels/42/59/f5/79a5bf931714dcd201b26025347785f087370a10a3329a899c\n",
            "Successfully built pyspark\n",
            "Installing collected packages: py4j, pyspark\n",
            "Successfully installed py4j-0.10.9.5 pyspark-3.3.1\n"
          ]
        }
      ]
    },
    {
      "cell_type": "markdown",
      "metadata": {
        "id": "5MnbH9Ou5YQc"
      },
      "source": [
        "### Importe aqui as bibliotecas necessárias"
      ]
    },
    {
      "cell_type": "code",
      "execution_count": null,
      "metadata": {
        "id": "Rs_000gh5YQe"
      },
      "outputs": [],
      "source": [
        "from pyspark.sql import SparkSession\n",
        "\n",
        "import pyspark.sql.functions as F\n",
        "\n"
      ]
    },
    {
      "cell_type": "markdown",
      "metadata": {
        "id": "NeTZW3sD5YQg"
      },
      "source": [
        "### Inicie uma sessão spark"
      ]
    },
    {
      "cell_type": "code",
      "execution_count": null,
      "metadata": {
        "id": "JqZb5b1w5YQh"
      },
      "outputs": [],
      "source": [
        "spark = SparkSession.builder.appName('teste').getOrCreate()"
      ]
    },
    {
      "cell_type": "markdown",
      "metadata": {
        "id": "_lKtGNve5YQh"
      },
      "source": [
        "### Baixe os dados deste [endereço](https://raw.githubusercontent.com/justmarkham/DAT8/master/data/chipotle.tsv) e carregue-os como um *dataset* em uma variável."
      ]
    },
    {
      "cell_type": "code",
      "execution_count": null,
      "metadata": {
        "id": "Coy5AhA55YQi"
      },
      "outputs": [],
      "source": [
        "df_chipotle = spark.read.csv('/content/chipotle.tsv', header=True, sep='\\t')"
      ]
    },
    {
      "cell_type": "markdown",
      "metadata": {
        "id": "RwhzllJT5YQi"
      },
      "source": [
        "### Mostre as 10 primeiras linhas"
      ]
    },
    {
      "cell_type": "code",
      "execution_count": null,
      "metadata": {
        "scrolled": false,
        "id": "Y7rizovB5YQj",
        "colab": {
          "base_uri": "https://localhost:8080/"
        },
        "outputId": "01daf50c-f92c-4aa7-c6c4-5f59c4951b2d"
      },
      "outputs": [
        {
          "output_type": "stream",
          "name": "stdout",
          "text": [
            "+--------+--------+--------------------+--------------------+----------+\n",
            "|order_id|quantity|           item_name|  choice_description|item_price|\n",
            "+--------+--------+--------------------+--------------------+----------+\n",
            "|       1|       1|Chips and Fresh T...|                NULL|    $2.39 |\n",
            "|       1|       1|                Izze|        [Clementine]|    $3.39 |\n",
            "|       1|       1|    Nantucket Nectar|             [Apple]|    $3.39 |\n",
            "|       1|       1|Chips and Tomatil...|                NULL|    $2.39 |\n",
            "|       2|       2|        Chicken Bowl|[Tomatillo-Red Ch...|   $16.98 |\n",
            "|       3|       1|        Chicken Bowl|[Fresh Tomato Sal...|   $10.98 |\n",
            "|       3|       1|       Side of Chips|                NULL|    $1.69 |\n",
            "|       4|       1|       Steak Burrito|[Tomatillo Red Ch...|   $11.75 |\n",
            "|       4|       1|    Steak Soft Tacos|[Tomatillo Green ...|    $9.25 |\n",
            "|       5|       1|       Steak Burrito|[Fresh Tomato Sal...|    $9.25 |\n",
            "+--------+--------+--------------------+--------------------+----------+\n",
            "only showing top 10 rows\n",
            "\n"
          ]
        }
      ],
      "source": [
        "df_chipotle.show(10)"
      ]
    },
    {
      "cell_type": "markdown",
      "metadata": {
        "id": "Zr7NEqs55YQk"
      },
      "source": [
        "### Quantas observações/informações existem no total?"
      ]
    },
    {
      "cell_type": "code",
      "execution_count": null,
      "metadata": {
        "id": "L-IkPCsS5YQk",
        "colab": {
          "base_uri": "https://localhost:8080/"
        },
        "outputId": "c4f6da3b-c4b8-4944-e7e8-7bb0cda87b6f"
      },
      "outputs": [
        {
          "output_type": "execute_result",
          "data": {
            "text/plain": [
              "4622"
            ]
          },
          "metadata": {},
          "execution_count": 9
        }
      ],
      "source": [
        "df_chipotle.count()"
      ]
    },
    {
      "cell_type": "markdown",
      "metadata": {
        "id": "C9d9lMt-5YQk"
      },
      "source": [
        "### Qual o número de colunas no dataset?"
      ]
    },
    {
      "cell_type": "code",
      "execution_count": null,
      "metadata": {
        "id": "fgfVHLWq5YQl",
        "colab": {
          "base_uri": "https://localhost:8080/"
        },
        "outputId": "0c97a610-7ad6-4bf1-aadc-a7707cb73982"
      },
      "outputs": [
        {
          "output_type": "execute_result",
          "data": {
            "text/plain": [
              "5"
            ]
          },
          "metadata": {},
          "execution_count": 20
        }
      ],
      "source": [
        "totalColumns = len(df_chipotle.columns)\n",
        "\n",
        "totalColumns"
      ]
    },
    {
      "cell_type": "markdown",
      "metadata": {
        "id": "T4uTC5D05YQl"
      },
      "source": [
        "### Imprima o nome de todas as colunas"
      ]
    },
    {
      "cell_type": "code",
      "execution_count": null,
      "metadata": {
        "id": "3fm-04xC5YQm",
        "colab": {
          "base_uri": "https://localhost:8080/"
        },
        "outputId": "e5948947-2a1b-49d3-8813-4d2c23766fca"
      },
      "outputs": [
        {
          "output_type": "execute_result",
          "data": {
            "text/plain": [
              "['order_id', 'quantity', 'item_name', 'choice_description', 'item_price']"
            ]
          },
          "metadata": {},
          "execution_count": 17
        }
      ],
      "source": [
        "df_chipotle.columns"
      ]
    },
    {
      "cell_type": "markdown",
      "source": [
        "## groupBy:\n",
        "Groups the DataFrame using the specified columns, so we can run aggregation on them. See GroupedData for all the available aggregate functions.\n",
        "\n",
        "groupby() is an alias for groupBy().\n",
        "\n",
        "New in version 1.3.0.\n",
        "\n",
        "### Parameters\n",
        "colslist, str or Column\n",
        "columns to group by. Each element should be a column name (string) or an expression (Column).\n",
        "\n",
        "## orderBy:\n",
        "Returns a new DataFrame sorted by the specified column(s).\n",
        "\n",
        "New in version 1.3.0.\n",
        "\n",
        "### Parameters\n",
        "cols: *str, list, or Column, optional*\n",
        "list of Column or column names to sort by.\n",
        "\n",
        "### Other Parameters\n",
        "ascending: *bool or list, optional*\n",
        "\n",
        "boolean or list of boolean (default True). Sort ascending vs. descending. Specify list for multiple sort orders. If a list is specified, length of the list must equal length of the cols."
      ],
      "metadata": {
        "id": "WZqhHZdWgHjx"
      }
    },
    {
      "cell_type": "markdown",
      "metadata": {
        "id": "aOCDAILF5YQm"
      },
      "source": [
        "### Qual o item mais pedido? Quantos foram pedidos no total?"
      ]
    },
    {
      "cell_type": "markdown",
      "source": [
        "A função orderBy cria uma nova coluna 'count' já ordenado na decrescente"
      ],
      "metadata": {
        "id": "CNol2rB3jhI6"
      }
    },
    {
      "cell_type": "code",
      "execution_count": null,
      "metadata": {
        "id": "tTW4QXUp5YQm",
        "colab": {
          "base_uri": "https://localhost:8080/"
        },
        "outputId": "8dee6808-3c1e-43d8-8538-78e5ad2f37d0"
      },
      "outputs": [
        {
          "output_type": "stream",
          "name": "stdout",
          "text": [
            "+------------+-----+\n",
            "|   item_name|count|\n",
            "+------------+-----+\n",
            "|Chicken Bowl|  726|\n",
            "+------------+-----+\n",
            "only showing top 1 row\n",
            "\n"
          ]
        }
      ],
      "source": [
        "df_chipotle.groupBy('item_name').count().orderBy('count', ascending = False).show(1)"
      ]
    },
    {
      "cell_type": "code",
      "source": [
        "# ajuda através da documentação\n",
        "help (df_chipotle.orderBy)"
      ],
      "metadata": {
        "colab": {
          "base_uri": "https://localhost:8080/"
        },
        "id": "YyGZk9QkjOl6",
        "outputId": "8cbe5d95-838f-44b1-917d-30d10bada73f"
      },
      "execution_count": null,
      "outputs": [
        {
          "output_type": "stream",
          "name": "stdout",
          "text": [
            "Help on method sort in module pyspark.sql.dataframe:\n",
            "\n",
            "sort(*cols: Union[str, pyspark.sql.column.Column, List[Union[str, pyspark.sql.column.Column]]], **kwargs: Any) -> 'DataFrame' method of pyspark.sql.dataframe.DataFrame instance\n",
            "    Returns a new :class:`DataFrame` sorted by the specified column(s).\n",
            "    \n",
            "    .. versionadded:: 1.3.0\n",
            "    \n",
            "    Parameters\n",
            "    ----------\n",
            "    cols : str, list, or :class:`Column`, optional\n",
            "         list of :class:`Column` or column names to sort by.\n",
            "    \n",
            "    Other Parameters\n",
            "    ----------------\n",
            "    ascending : bool or list, optional\n",
            "        boolean or list of boolean (default ``True``).\n",
            "        Sort ascending vs. descending. Specify list for multiple sort orders.\n",
            "        If a list is specified, length of the list must equal length of the `cols`.\n",
            "    \n",
            "    Examples\n",
            "    --------\n",
            "    >>> df.sort(df.age.desc()).collect()\n",
            "    [Row(age=5, name='Bob'), Row(age=2, name='Alice')]\n",
            "    >>> df.sort(\"age\", ascending=False).collect()\n",
            "    [Row(age=5, name='Bob'), Row(age=2, name='Alice')]\n",
            "    >>> df.orderBy(df.age.desc()).collect()\n",
            "    [Row(age=5, name='Bob'), Row(age=2, name='Alice')]\n",
            "    >>> from pyspark.sql.functions import *\n",
            "    >>> df.sort(asc(\"age\")).collect()\n",
            "    [Row(age=2, name='Alice'), Row(age=5, name='Bob')]\n",
            "    >>> df.orderBy(desc(\"age\"), \"name\").collect()\n",
            "    [Row(age=5, name='Bob'), Row(age=2, name='Alice')]\n",
            "    >>> df.orderBy([\"age\", \"name\"], ascending=[0, 1]).collect()\n",
            "    [Row(age=5, name='Bob'), Row(age=2, name='Alice')]\n",
            "\n"
          ]
        }
      ]
    },
    {
      "cell_type": "markdown",
      "metadata": {
        "id": "b62r4XEw5YQn"
      },
      "source": [
        "### Quantos itens em geral foram pedidos?"
      ]
    },
    {
      "cell_type": "code",
      "execution_count": null,
      "metadata": {
        "id": "XyC-nbKl5YQn",
        "colab": {
          "base_uri": "https://localhost:8080/"
        },
        "outputId": "ee8d7db9-46cd-4c71-e0d6-ca4867a0c3d7"
      },
      "outputs": [
        {
          "output_type": "stream",
          "name": "stdout",
          "text": [
            "+-------------+\n",
            "|sum(quantity)|\n",
            "+-------------+\n",
            "|       4972.0|\n",
            "+-------------+\n",
            "\n"
          ]
        }
      ],
      "source": [
        "df_chipotle.agg(F.sum(F.col('quantity'))).show()"
      ]
    },
    {
      "cell_type": "markdown",
      "metadata": {
        "id": "J0N3qhTD5YQo"
      },
      "source": [
        "### Converta a coluna preço para float\n",
        "\n",
        "Obs: Tirar o cifrão e converter para float"
      ]
    },
    {
      "cell_type": "code",
      "source": [
        "df_chipotle.show()"
      ],
      "metadata": {
        "colab": {
          "base_uri": "https://localhost:8080/"
        },
        "id": "3HEqYQ7JrI67",
        "outputId": "b4caf1ff-2bcb-4536-a3d3-bfbfb02edad8"
      },
      "execution_count": null,
      "outputs": [
        {
          "output_type": "stream",
          "name": "stdout",
          "text": [
            "+--------+--------+--------------------+--------------------+----------+\n",
            "|order_id|quantity|           item_name|  choice_description|item_price|\n",
            "+--------+--------+--------------------+--------------------+----------+\n",
            "|       1|       1|Chips and Fresh T...|                NULL|    $2.39 |\n",
            "|       1|       1|                Izze|        [Clementine]|    $3.39 |\n",
            "|       1|       1|    Nantucket Nectar|             [Apple]|    $3.39 |\n",
            "|       1|       1|Chips and Tomatil...|                NULL|    $2.39 |\n",
            "|       2|       2|        Chicken Bowl|[Tomatillo-Red Ch...|   $16.98 |\n",
            "|       3|       1|        Chicken Bowl|[Fresh Tomato Sal...|   $10.98 |\n",
            "|       3|       1|       Side of Chips|                NULL|    $1.69 |\n",
            "|       4|       1|       Steak Burrito|[Tomatillo Red Ch...|   $11.75 |\n",
            "|       4|       1|    Steak Soft Tacos|[Tomatillo Green ...|    $9.25 |\n",
            "|       5|       1|       Steak Burrito|[Fresh Tomato Sal...|    $9.25 |\n",
            "|       5|       1| Chips and Guacamole|                NULL|    $4.45 |\n",
            "|       6|       1|Chicken Crispy Tacos|[Roasted Chili Co...|    $8.75 |\n",
            "|       6|       1|  Chicken Soft Tacos|[Roasted Chili Co...|    $8.75 |\n",
            "|       7|       1|        Chicken Bowl|[Fresh Tomato Sal...|   $11.25 |\n",
            "|       7|       1| Chips and Guacamole|                NULL|    $4.45 |\n",
            "|       8|       1|Chips and Tomatil...|                NULL|    $2.39 |\n",
            "|       8|       1|     Chicken Burrito|[Tomatillo-Green ...|    $8.49 |\n",
            "|       9|       1|     Chicken Burrito|[Fresh Tomato Sal...|    $8.49 |\n",
            "|       9|       2|         Canned Soda|            [Sprite]|    $2.18 |\n",
            "|      10|       1|        Chicken Bowl|[Tomatillo Red Ch...|    $8.75 |\n",
            "+--------+--------+--------------------+--------------------+----------+\n",
            "only showing top 20 rows\n",
            "\n"
          ]
        }
      ]
    },
    {
      "cell_type": "code",
      "execution_count": null,
      "metadata": {
        "id": "Ry1BRrUS5YQq"
      },
      "outputs": [],
      "source": [
        "def corrigir_nomes(nome):\n",
        "    nome = nome.replace('$', '')\n",
        "    return nome"
      ]
    },
    {
      "cell_type": "code",
      "source": [
        "from pyspark.sql.types import StringType"
      ],
      "metadata": {
        "id": "-AFL2TFUsN3R"
      },
      "execution_count": null,
      "outputs": []
    },
    {
      "cell_type": "code",
      "execution_count": null,
      "metadata": {
        "id": "cUGpkVF_5YQr"
      },
      "outputs": [],
      "source": [
        "novaFuncao = F.udf(corrigir_nomes, StringType())"
      ]
    },
    {
      "cell_type": "code",
      "source": [
        "df_chipotle.withColumn('item_price',novaFuncao(F.col('item_price')).cast('float')).printSchema()"
      ],
      "metadata": {
        "colab": {
          "base_uri": "https://localhost:8080/"
        },
        "id": "ZwmQoGnlswJx",
        "outputId": "27c27ad9-52a7-465f-a7ed-3af5b8ce52ea"
      },
      "execution_count": null,
      "outputs": [
        {
          "output_type": "stream",
          "name": "stdout",
          "text": [
            "root\n",
            " |-- order_id: string (nullable = true)\n",
            " |-- quantity: string (nullable = true)\n",
            " |-- item_name: string (nullable = true)\n",
            " |-- choice_description: string (nullable = true)\n",
            " |-- item_price: float (nullable = true)\n",
            "\n"
          ]
        }
      ]
    },
    {
      "cell_type": "code",
      "source": [
        "df = df_chipotle.withColumn('item_price',novaFuncao(F.col('item_price')).cast('float'))"
      ],
      "metadata": {
        "id": "EfmzT9Jj4SyK"
      },
      "execution_count": null,
      "outputs": []
    },
    {
      "cell_type": "markdown",
      "metadata": {
        "id": "quWpa37y5YQq"
      },
      "source": [
        "### Qual foi a entrada em caixa total do dataset inteiro?"
      ]
    },
    {
      "cell_type": "code",
      "source": [
        "df.select(F.sum('item_price')).show()"
      ],
      "metadata": {
        "colab": {
          "base_uri": "https://localhost:8080/"
        },
        "id": "hVnpN1n2trsV",
        "outputId": "2373d7b4-7d19-4fe5-e465-59528e449504"
      },
      "execution_count": null,
      "outputs": [
        {
          "output_type": "stream",
          "name": "stdout",
          "text": [
            "+------------------+\n",
            "|   sum(item_price)|\n",
            "+------------------+\n",
            "|34500.159754514694|\n",
            "+------------------+\n",
            "\n"
          ]
        }
      ]
    },
    {
      "cell_type": "markdown",
      "metadata": {
        "id": "-Se6YqOB5YQr"
      },
      "source": [
        "### Qual a entrada média em caixa por pedido?"
      ]
    },
    {
      "cell_type": "code",
      "execution_count": null,
      "metadata": {
        "id": "uVLf1xj95YQr",
        "colab": {
          "base_uri": "https://localhost:8080/"
        },
        "outputId": "e287a6e2-29c9-4fa8-ced2-520b0bdc0a21"
      },
      "outputs": [
        {
          "output_type": "stream",
          "name": "stdout",
          "text": [
            "+-----------------+\n",
            "|  avg(item_price)|\n",
            "+-----------------+\n",
            "|7.464335732261942|\n",
            "+-----------------+\n",
            "\n"
          ]
        }
      ],
      "source": [
        "df.select(F.avg('item_price')).show()"
      ]
    },
    {
      "cell_type": "markdown",
      "metadata": {
        "id": "q3Acm7EE5YQs"
      },
      "source": [
        "### Quantos item diferentes são vendidos?"
      ]
    },
    {
      "cell_type": "code",
      "source": [
        "help (df.dropDuplicates)"
      ],
      "metadata": {
        "colab": {
          "base_uri": "https://localhost:8080/"
        },
        "id": "d_CXPuYg6FAn",
        "outputId": "fcb1b3b7-eedf-47fb-98a6-1d93217ca40e"
      },
      "execution_count": null,
      "outputs": [
        {
          "output_type": "stream",
          "name": "stdout",
          "text": [
            "Help on method dropDuplicates in module pyspark.sql.dataframe:\n",
            "\n",
            "dropDuplicates(subset: Union[List[str], NoneType] = None) -> 'DataFrame' method of pyspark.sql.dataframe.DataFrame instance\n",
            "    Return a new :class:`DataFrame` with duplicate rows removed,\n",
            "    optionally only considering certain columns.\n",
            "    \n",
            "    For a static batch :class:`DataFrame`, it just drops duplicate rows. For a streaming\n",
            "    :class:`DataFrame`, it will keep all data across triggers as intermediate state to drop\n",
            "    duplicates rows. You can use :func:`withWatermark` to limit how late the duplicate data can\n",
            "    be and system will accordingly limit the state. In addition, too late data older than\n",
            "    watermark will be dropped to avoid any possibility of duplicates.\n",
            "    \n",
            "    :func:`drop_duplicates` is an alias for :func:`dropDuplicates`.\n",
            "    \n",
            "    .. versionadded:: 1.4.0\n",
            "    \n",
            "    Examples\n",
            "    --------\n",
            "    >>> from pyspark.sql import Row\n",
            "    >>> df = sc.parallelize([ \\\n",
            "    ...     Row(name='Alice', age=5, height=80), \\\n",
            "    ...     Row(name='Alice', age=5, height=80), \\\n",
            "    ...     Row(name='Alice', age=10, height=80)]).toDF()\n",
            "    >>> df.dropDuplicates().show()\n",
            "    +-----+---+------+\n",
            "    | name|age|height|\n",
            "    +-----+---+------+\n",
            "    |Alice|  5|    80|\n",
            "    |Alice| 10|    80|\n",
            "    +-----+---+------+\n",
            "    \n",
            "    >>> df.dropDuplicates(['name', 'height']).show()\n",
            "    +-----+---+------+\n",
            "    | name|age|height|\n",
            "    +-----+---+------+\n",
            "    |Alice|  5|    80|\n",
            "    +-----+---+------+\n",
            "\n"
          ]
        }
      ]
    },
    {
      "cell_type": "code",
      "execution_count": null,
      "metadata": {
        "id": "fQ6eDaFj5YQs",
        "colab": {
          "base_uri": "https://localhost:8080/"
        },
        "outputId": "1c3e9d29-97e9-4ac4-b87c-f77ae6113e8e"
      },
      "outputs": [
        {
          "output_type": "execute_result",
          "data": {
            "text/plain": [
              "50"
            ]
          },
          "metadata": {},
          "execution_count": 73
        }
      ],
      "source": [
        "df.dropDuplicates(['item_name']).count()"
      ]
    },
    {
      "cell_type": "markdown",
      "metadata": {
        "id": "9v2kPbNi5YQs"
      },
      "source": [
        "### Quantos produtos custam mais que $10,00?"
      ]
    },
    {
      "cell_type": "code",
      "execution_count": null,
      "metadata": {
        "id": "Bidm78AM5YQs",
        "colab": {
          "base_uri": "https://localhost:8080/"
        },
        "outputId": "dd7d8c83-a0c8-41e9-c912-3f4eebfd7876"
      },
      "outputs": [
        {
          "output_type": "execute_result",
          "data": {
            "text/plain": [
              "1130"
            ]
          },
          "metadata": {},
          "execution_count": 75
        }
      ],
      "source": [
        "df.filter(df['item_price']>10).count()"
      ]
    },
    {
      "cell_type": "markdown",
      "metadata": {
        "id": "n4rEyTgb5YQs"
      },
      "source": [
        "### Qual é o preço de cada item?\n",
        "(criar um dataframe com o nome do item e seu respectivo preço)"
      ]
    },
    {
      "cell_type": "code",
      "execution_count": null,
      "metadata": {
        "id": "vf4lOGJD5YQt",
        "colab": {
          "base_uri": "https://localhost:8080/"
        },
        "outputId": "316c1a18-06a7-4574-bdb4-e19d1c938ff4"
      },
      "outputs": [
        {
          "output_type": "stream",
          "name": "stdout",
          "text": [
            "+--------------------+----------+\n",
            "|           item_name|item_price|\n",
            "+--------------------+----------+\n",
            "| Carnitas Soft Tacos|      9.25|\n",
            "|  Chicken Soft Tacos|      8.75|\n",
            "|               Salad|       7.4|\n",
            "|         Steak Salad|      8.99|\n",
            "|                Bowl|      22.2|\n",
            "| Veggie Crispy Tacos|      8.49|\n",
            "|   6 Pack Soft Drink|      6.49|\n",
            "|Chicken Crispy Tacos|      8.75|\n",
            "|   Veggie Soft Tacos|     11.25|\n",
            "| Carnitas Salad Bowl|     11.89|\n",
            "|     Chicken Burrito|      8.49|\n",
            "|   Veggie Salad Bowl|     11.25|\n",
            "|         Veggie Bowl|     11.25|\n",
            "|       Steak Burrito|     11.75|\n",
            "|  Steak Crispy Tacos|      9.25|\n",
            "|   Canned Soft Drink|      1.25|\n",
            "|        Chicken Bowl|     16.98|\n",
            "|       Side of Chips|      1.69|\n",
            "|                Izze|      3.39|\n",
            "|  Chicken Salad Bowl|      8.75|\n",
            "+--------------------+----------+\n",
            "only showing top 20 rows\n",
            "\n"
          ]
        }
      ],
      "source": [
        "df.dropDuplicates(['item_name']).select(['item_name','item_price']).show()"
      ]
    },
    {
      "cell_type": "markdown",
      "metadata": {
        "id": "J964hNI05YQt"
      },
      "source": [
        "### Ordene as linhas por ordem alfabética de nome"
      ]
    },
    {
      "cell_type": "code",
      "execution_count": null,
      "metadata": {
        "id": "m9B8jtKo5YQt",
        "colab": {
          "base_uri": "https://localhost:8080/"
        },
        "outputId": "33109405-0cec-4aff-e067-164e0f2eb5de"
      },
      "outputs": [
        {
          "output_type": "stream",
          "name": "stdout",
          "text": [
            "+--------+--------+-----------------+------------------+----------+\n",
            "|order_id|quantity|        item_name|choice_description|item_price|\n",
            "+--------+--------+-----------------+------------------+----------+\n",
            "|     511|       1|6 Pack Soft Drink|            [Coke]|    $6.49 |\n",
            "|    1253|       1|6 Pack Soft Drink|        [Lemonade]|    $6.49 |\n",
            "|     520|       1|6 Pack Soft Drink|          [Sprite]|    $6.49 |\n",
            "|     148|       1|6 Pack Soft Drink|       [Diet Coke]|    $6.49 |\n",
            "|     566|       1|6 Pack Soft Drink|       [Diet Coke]|    $6.49 |\n",
            "|     168|       1|6 Pack Soft Drink|       [Diet Coke]|    $6.49 |\n",
            "|     708|       1|6 Pack Soft Drink|            [Coke]|    $6.49 |\n",
            "|     230|       1|6 Pack Soft Drink|       [Diet Coke]|    $6.49 |\n",
            "|     709|       1|6 Pack Soft Drink|       [Diet Coke]|    $6.49 |\n",
            "|     298|       1|6 Pack Soft Drink|          [Nestea]|    $6.49 |\n",
            "|     749|       1|6 Pack Soft Drink|            [Coke]|    $6.49 |\n",
            "|     363|       1|6 Pack Soft Drink|            [Coke]|    $6.49 |\n",
            "|     754|       1|6 Pack Soft Drink|       [Diet Coke]|    $6.49 |\n",
            "|     432|       1|6 Pack Soft Drink|            [Coke]|    $6.49 |\n",
            "|     774|       1|6 Pack Soft Drink|       [Diet Coke]|    $6.49 |\n",
            "|     481|       1|6 Pack Soft Drink|            [Coke]|    $6.49 |\n",
            "|     776|       1|6 Pack Soft Drink|            [Coke]|    $6.49 |\n",
            "|     849|       1|6 Pack Soft Drink|            [Coke]|    $6.49 |\n",
            "|    1248|       1|6 Pack Soft Drink|       [Diet Coke]|    $6.49 |\n",
            "|     899|       1|6 Pack Soft Drink|            [Coke]|    $6.49 |\n",
            "+--------+--------+-----------------+------------------+----------+\n",
            "only showing top 20 rows\n",
            "\n"
          ]
        }
      ],
      "source": [
        "df_chipotle.orderBy('item_name').show()"
      ]
    },
    {
      "cell_type": "markdown",
      "metadata": {
        "id": "XSYSEfsK5YQt"
      },
      "source": [
        "### Quantas vezes o item mais pedido foi vendido?"
      ]
    },
    {
      "cell_type": "code",
      "execution_count": null,
      "metadata": {
        "id": "RN9CEdKt5YQt",
        "colab": {
          "base_uri": "https://localhost:8080/"
        },
        "outputId": "49d74b2e-2284-4416-e04c-858c422e1c45"
      },
      "outputs": [
        {
          "output_type": "stream",
          "name": "stdout",
          "text": [
            "+------------+-----+\n",
            "|   item_name|count|\n",
            "+------------+-----+\n",
            "|Chicken Bowl|  726|\n",
            "+------------+-----+\n",
            "only showing top 1 row\n",
            "\n"
          ]
        }
      ],
      "source": [
        "df.groupBy('item_name').count().orderBy('count', ascending = False).show(1)"
      ]
    },
    {
      "cell_type": "markdown",
      "metadata": {
        "id": "xeAPvKp55YQt"
      },
      "source": [
        "### Quantas vezes o item \"Veggie Salad Bowl\" foi vendido?"
      ]
    },
    {
      "cell_type": "code",
      "execution_count": null,
      "metadata": {
        "id": "uXVxSmsz5YQu",
        "colab": {
          "base_uri": "https://localhost:8080/"
        },
        "outputId": "604b853b-d06c-4b93-f6ba-fbaddc99f5b2"
      },
      "outputs": [
        {
          "output_type": "stream",
          "name": "stdout",
          "text": [
            "+-----------------+-------------+\n",
            "|        item_name|sum(quantity)|\n",
            "+-----------------+-------------+\n",
            "|Veggie Salad Bowl|         18.0|\n",
            "+-----------------+-------------+\n",
            "\n"
          ]
        }
      ],
      "source": [
        "df.groupBy('item_name').agg(F.sum('quantity')).filter(F.col('item_name') == 'Veggie Salad Bowl').show()"
      ]
    },
    {
      "cell_type": "markdown",
      "metadata": {
        "id": "XbY0zInS5YQu"
      },
      "source": [
        "### Quantas vezes alguém pediu *mais de um* item \"Canned Soda\"?"
      ]
    },
    {
      "cell_type": "code",
      "execution_count": null,
      "metadata": {
        "id": "7a5vRd_z5YQu",
        "colab": {
          "base_uri": "https://localhost:8080/"
        },
        "outputId": "f74096d8-e5c0-4afe-f52e-4a75365125ff"
      },
      "outputs": [
        {
          "output_type": "execute_result",
          "data": {
            "text/plain": [
              "20"
            ]
          },
          "metadata": {},
          "execution_count": 89
        }
      ],
      "source": [
        "df.filter((F.col('item_name') == 'Canned Soda') & (F.col('quantity') > 1)).count()"
      ]
    }
  ],
  "metadata": {
    "anaconda-cloud": {},
    "kernelspec": {
      "display_name": "Python 3 (ipykernel)",
      "language": "python",
      "name": "python3"
    },
    "language_info": {
      "codemirror_mode": {
        "name": "ipython",
        "version": 3
      },
      "file_extension": ".py",
      "mimetype": "text/x-python",
      "name": "python",
      "nbconvert_exporter": "python",
      "pygments_lexer": "ipython3",
      "version": "3.9.12"
    },
    "colab": {
      "provenance": [],
      "include_colab_link": true
    }
  },
  "nbformat": 4,
  "nbformat_minor": 0
}