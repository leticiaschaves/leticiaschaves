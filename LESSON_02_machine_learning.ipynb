{
  "nbformat": 4,
  "nbformat_minor": 0,
  "metadata": {
    "colab": {
      "provenance": [],
      "authorship_tag": "ABX9TyMpdkITl5pCM/yMo0S/iQdX",
      "include_colab_link": true
    },
    "kernelspec": {
      "name": "python3",
      "display_name": "Python 3"
    },
    "language_info": {
      "name": "python"
    }
  },
  "cells": [
    {
      "cell_type": "markdown",
      "metadata": {
        "id": "view-in-github",
        "colab_type": "text"
      },
      "source": [
        "<a href=\"https://colab.research.google.com/github/leticiaschaves/leticiaschaves/blob/data-projects/LESSON_02_machine_learning.ipynb\" target=\"_parent\"><img src=\"https://colab.research.google.com/assets/colab-badge.svg\" alt=\"Open In Colab\"/></a>"
      ]
    },
    {
      "cell_type": "code",
      "execution_count": null,
      "metadata": {
        "id": "HTlFUwl6pFa6"
      },
      "outputs": [],
      "source": [
        "from sklearn import datasets\n",
        "import pandas as pd\n",
        "import numpy as np\n",
        "from sklearn.model_selection import StratifiedKFold\n",
        "import random\n",
        "from sklearn.naive_bayes import GaussianNB\n",
        "from sklearn.metrics import accuracy_score, f1_score"
      ]
    },
    {
      "cell_type": "code",
      "source": [
        "digitos = datasets.load_digits()"
      ],
      "metadata": {
        "id": "ALgDuzJTplRK"
      },
      "execution_count": null,
      "outputs": []
    },
    {
      "cell_type": "code",
      "source": [
        "x = pd.DataFrame(data = digitos['data'], columns=digitos['feature_names'])\n",
        "y = pd.DataFrame(data = digitos['target'], columns = ['target'])"
      ],
      "metadata": {
        "id": "uGdf6Qzepuzn"
      },
      "execution_count": null,
      "outputs": []
    },
    {
      "cell_type": "code",
      "source": [
        "y['target'].value_counts()"
      ],
      "metadata": {
        "colab": {
          "base_uri": "https://localhost:8080/"
        },
        "id": "Oo9FnHMXrCyE",
        "outputId": "8ed7655c-7b18-4d7a-f9be-26da21757256"
      },
      "execution_count": null,
      "outputs": [
        {
          "output_type": "execute_result",
          "data": {
            "text/plain": [
              "3    183\n",
              "1    182\n",
              "5    182\n",
              "4    181\n",
              "6    181\n",
              "9    180\n",
              "7    179\n",
              "0    178\n",
              "2    177\n",
              "8    174\n",
              "Name: target, dtype: int64"
            ]
          },
          "metadata": {},
          "execution_count": 5
        }
      ]
    },
    {
      "cell_type": "code",
      "source": [
        "y['target'].hist()"
      ],
      "metadata": {
        "colab": {
          "base_uri": "https://localhost:8080/",
          "height": 282
        },
        "id": "B4CXtsAxrfbw",
        "outputId": "7cef168c-a37c-4fef-d8e5-4abc13bcbf70"
      },
      "execution_count": null,
      "outputs": [
        {
          "output_type": "execute_result",
          "data": {
            "text/plain": [
              "<matplotlib.axes._subplots.AxesSubplot at 0x7f65c7994650>"
            ]
          },
          "metadata": {},
          "execution_count": 6
        },
        {
          "output_type": "display_data",
          "data": {
            "text/plain": [
              "<Figure size 432x288 with 1 Axes>"
            ],
            "image/png": "[encoded data removed]"
          },
          "metadata": {
            "needs_background": "light"
          }
        }
      ]
    },
    {
      "cell_type": "code",
      "source": [
        "execucoes = 10\n",
        "n_folds = 8\n",
        "seed = random.randint(0, 2000)\n",
        "skf = StratifiedKFold(n_splits=n_folds, shuffle=True, random_state=seed)\n",
        "\n",
        "lista_acuracias= []\n",
        "lista_f1_scores= []\n",
        "\n",
        "for train_index, val_index in skf.split(x, y):\n",
        "  x_train, x_test = x.iloc[train_index, :], x.iloc[val_index, :]\n",
        "  y_train, y_test = y.iloc[train_index], y.iloc[val_index]\n",
        "  for run in range(execucoes):\n",
        "    model = GaussianNB()\n",
        "    model.fit(x_train, y_train.values.ravel())\n",
        "    predicoes = model.predict(x_test)\n",
        "\n",
        "    acc = accuracy_score(y_test, predicoes)\n",
        "    lista_acuracias.append(acc)\n",
        "\n",
        "    _f1_score = f1_score(y_test, predicoes, average='weighted')\n",
        "    lista_f1_scores.append(_f1_score)"
      ],
      "metadata": {
        "id": "YxZoKOsIsqrv"
      },
      "execution_count": null,
      "outputs": []
    },
    {
      "cell_type": "code",
      "source": [
        "acc, acc_std = np.array(lista_acuracias).mean(), np.array(lista_acuracias).std()\n",
        "acc, acc_std"
      ],
      "metadata": {
        "colab": {
          "base_uri": "https://localhost:8080/"
        },
        "id": "OkteQ8Z_supG",
        "outputId": "5b1e61a3-4fad-4aec-cec5-adc5b9003816"
      },
      "execution_count": null,
      "outputs": [
        {
          "output_type": "execute_result",
          "data": {
            "text/plain": [
              "(0.8380902777777777, 0.03696843205951485)"
            ]
          },
          "metadata": {},
          "execution_count": 12
        }
      ]
    },
    {
      "cell_type": "code",
      "source": [
        "from sklearn.tree import DecisionTreeClassifier"
      ],
      "metadata": {
        "id": "ApywA1xJ0Uk_"
      },
      "execution_count": null,
      "outputs": []
    },
    {
      "cell_type": "code",
      "source": [
        "execucoes = 10\n",
        "n_folds = 8\n",
        "seed = random.randint(0, 2000)\n",
        "skf = StratifiedKFold(n_splits=n_folds, shuffle=True, random_state=seed)\n",
        "\n",
        "lista_acuracias= []\n",
        "lista_f1_scores= []\n",
        "\n",
        "for train_index, val_index in skf.split(x, y):\n",
        "  x_train, x_test = x.iloc[train_index, :], x.iloc[val_index, :]\n",
        "  y_train, y_test = y.iloc[train_index], y.iloc[val_index]\n",
        "  for run in range(execucoes):\n",
        "    model = DecisionTreeClassifier(random_state=seed)\n",
        "    model.fit(x_train, y_train.values.ravel())\n",
        "    predicoes = model.predict(x_test)\n",
        "\n",
        "    acc = accuracy_score(y_test, predicoes)\n",
        "    lista_acuracias.append(acc)\n",
        "\n",
        "    _f1_score = f1_score(y_test, predicoes, average='weighted')\n",
        "    lista_f1_scores.append(_f1_score)"
      ],
      "metadata": {
        "id": "4M8cpBJr7ju3"
      },
      "execution_count": null,
      "outputs": []
    },
    {
      "cell_type": "code",
      "source": [
        "acc, acc_std = np.array(lista_acuracias).mean(), np.array(lista_acuracias).std()\n",
        "acc, acc_std"
      ],
      "metadata": {
        "colab": {
          "base_uri": "https://localhost:8080/"
        },
        "id": "jpq1GhR57-3m",
        "outputId": "8bc49cda-9b7a-4e92-ee31-ea724051eb2c"
      },
      "execution_count": null,
      "outputs": [
        {
          "output_type": "execute_result",
          "data": {
            "text/plain": [
              "(0.8603298611111111, 0.023545938752226284)"
            ]
          },
          "metadata": {},
          "execution_count": 15
        }
      ]
    }
  ]
}