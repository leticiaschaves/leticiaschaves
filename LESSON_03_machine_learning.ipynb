{
  "nbformat": 4,
  "nbformat_minor": 0,
  "metadata": {
    "colab": {
      "provenance": [],
      "authorship_tag": "ABX9TyNeZRb3fG65jtdla98A+JoF",
      "include_colab_link": true
    },
    "kernelspec": {
      "name": "python3",
      "display_name": "Python 3"
    },
    "language_info": {
      "name": "python"
    }
  },
  "cells": [
    {
      "cell_type": "markdown",
      "metadata": {
        "id": "view-in-github",
        "colab_type": "text"
      },
      "source": [
        "<a href=\"https://colab.research.google.com/github/leticiaschaves/leticiaschaves/blob/data-projects/LESSON_03_machine_learning.ipynb\" target=\"_parent\"><img src=\"https://colab.research.google.com/assets/colab-badge.svg\" alt=\"Open In Colab\"/></a>"
      ]
    },
    {
      "cell_type": "code",
      "execution_count": null,
      "metadata": {
        "id": "IxrqTGPg8a24"
      },
      "outputs": [],
      "source": [
        "import pandas as pd"
      ]
    },
    {
      "cell_type": "code",
      "source": [
        "import numpy as np"
      ],
      "metadata": {
        "id": "mU-l_XD_BxSp"
      },
      "execution_count": null,
      "outputs": []
    },
    {
      "cell_type": "code",
      "source": [
        "dados = pd.read_csv('/dataset_acoes.csv',sep=\";\")"
      ],
      "metadata": {
        "id": "5AS9Fnc3Bzsd"
      },
      "execution_count": null,
      "outputs": []
    },
    {
      "cell_type": "code",
      "source": [
        "x = pd.DataFrame(data = dados[['cotacao', 'High (avg)', 'Low (avg)', 'Open (avg)', 'Close (avg)']])\n",
        "x.fillna(0, inplace=True)\n",
        "y = pd.DataFrame(data= dados['retorno_6m'], columns = ['retorno_6m'])\n",
        "y.fillna(0, inplace=True)"
      ],
      "metadata": {
        "id": "lOsADiJBB5e0"
      },
      "execution_count": null,
      "outputs": []
    },
    {
      "cell_type": "code",
      "source": [
        "from sklearn.neural_network import MLPRegressor\n",
        "from sklearn.model_selection import KFold\n",
        "import random\n",
        "from sklearn.metrics import mean_squared_error"
      ],
      "metadata": {
        "id": "H6T8ncEPB9E7"
      },
      "execution_count": null,
      "outputs": []
    },
    {
      "cell_type": "code",
      "source": [
        "execucoes = 5\n",
        "n_folds = 4\n",
        "seed = random.randint(0, 2000)\n",
        "skf = KFold(n_splits=n_folds, shuffle=True, random_state=seed)\n",
        "\n",
        "lista_mse_scores=[]\n",
        "folder=1\n",
        "\n",
        "for train_index, val_index in skf.split(x):\n",
        "  x_train, x_test = x.iloc[train_index, :], x.iloc[val_index, :]\n",
        "  y_train, y_test = y.iloc[train_index], y.iloc[val_index]\n",
        "  print(f\"Rodando folder {folder}\")\n",
        "  for run in range(execucoes):\n",
        "    print(\"\\tExecuções\", run)\n",
        "    model = MLPRegressor(random_state=seed, max_iter=500)\n",
        "    model.fit(x_train, y_train.values.ravel())\n",
        "    predicoes = model.predict(x_test)\n",
        "\n",
        "    mse = mean_squared_error(y_test, predicoes)\n",
        "    lista_mse_scores.append(mse)\n",
        "    folder+=1\n",
        "  print('Finalizei o treinamento')"
      ],
      "metadata": {
        "colab": {
          "base_uri": "https://localhost:8080/"
        },
        "id": "3RN_Fbp0D2UW",
        "outputId": "b42ba2c1-56fa-457a-a272-802a44792ec9"
      },
      "execution_count": null,
      "outputs": [
        {
          "output_type": "stream",
          "name": "stdout",
          "text": [
            "Rodando folder 1\n",
            "\tExecuções 0\n",
            "\tExecuções 1\n",
            "\tExecuções 2\n",
            "\tExecuções 3\n",
            "\tExecuções 4\n",
            "Finalizei o treinamento\n",
            "Rodando folder 6\n",
            "\tExecuções 0\n",
            "\tExecuções 1\n",
            "\tExecuções 2\n",
            "\tExecuções 3\n",
            "\tExecuções 4\n",
            "Finalizei o treinamento\n",
            "Rodando folder 11\n",
            "\tExecuções 0\n",
            "\tExecuções 1\n",
            "\tExecuções 2\n",
            "\tExecuções 3\n",
            "\tExecuções 4\n",
            "Finalizei o treinamento\n",
            "Rodando folder 16\n",
            "\tExecuções 0\n",
            "\tExecuções 1\n",
            "\tExecuções 2\n",
            "\tExecuções 3\n",
            "\tExecuções 4\n",
            "Finalizei o treinamento\n"
          ]
        }
      ]
    },
    {
      "cell_type": "code",
      "source": [
        "from keras.models import Sequential\n",
        "from keras.layers import Dense, Dropout\n",
        "from keras.optimizers import Adam"
      ],
      "metadata": {
        "id": "NgThKIHmHVnC"
      },
      "execution_count": null,
      "outputs": []
    },
    {
      "cell_type": "code",
      "source": [
        "model = Sequential()\n",
        "model.add(Dense(124, input_shape=(x.shape[1],), activation='relu'))\n",
        "model.add(Dropout(.25))\n",
        "model.add(Dense(64, activation='relu'))\n",
        "model.add(Dense(16, activation='softmax'))\n",
        "model.add(Dense(1, activation='sigmoid'))"
      ],
      "metadata": {
        "id": "r44IpVqyFCuU"
      },
      "execution_count": null,
      "outputs": []
    }
  ]
}