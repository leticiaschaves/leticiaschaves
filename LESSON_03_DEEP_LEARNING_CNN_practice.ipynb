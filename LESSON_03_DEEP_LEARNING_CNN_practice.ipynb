{
  "nbformat": 4,
  "nbformat_minor": 0,
  "metadata": {
    "colab": {
      "provenance": [],
      "mount_file_id": "1wWBgnQ50Ol70Rh8GqafQfKAS2C52DBBo",
      "authorship_tag": "ABX9TyPBchcfKN/uDmOvSLL/Wb7S",
      "include_colab_link": true
    },
    "kernelspec": {
      "name": "python3",
      "display_name": "Python 3"
    },
    "language_info": {
      "name": "python"
    },
    "accelerator": "GPU",
    "gpuClass": "standard"
  },
  "cells": [
    {
      "cell_type": "markdown",
      "metadata": {
        "id": "view-in-github",
        "colab_type": "text"
      },
      "source": [
        "<a href=\"https://colab.research.google.com/github/leticiaschaves/leticiaschaves/blob/data-projects/LESSON_03_DEEP_LEARNING_CNN_practice.ipynb\" target=\"_parent\"><img src=\"https://colab.research.google.com/assets/colab-badge.svg\" alt=\"Open In Colab\"/></a>"
      ]
    },
    {
      "cell_type": "code",
      "execution_count": 28,
      "metadata": {
        "id": "Ca0PMbr9Sy4K"
      },
      "outputs": [],
      "source": [
        "import keras"
      ]
    },
    {
      "cell_type": "markdown",
      "source": [
        "importa bibliotecas, camadas e tipo de modelo."
      ],
      "metadata": {
        "id": "n3xpKdzUXMR2"
      }
    },
    {
      "cell_type": "code",
      "source": [
        "from keras.models.cloning import sequential\n",
        "from keras.layers import Dense, Conv2D, Input, MaxPool2D, Flatten\n",
        "from keras.models import Sequential\n",
        "\n",
        "# tipo de modelo na variavel\n",
        "modelo = Sequential()\n",
        "\n",
        "# adiciona o tamanho de entrada\n",
        "modelo.add(Input(shape=(300, 300, 3)))\n",
        "\n",
        "# adiciona o filtro\n",
        "modelo.add(Conv2D(64, (3,3), activation='relu'))\n",
        "\n",
        "# adiciona a camada de maxpooling e outra camada convolucional com 128 filtros\n",
        "\n",
        "modelo.add(MaxPool2D())\n",
        "modelo.add(Conv2D(128, (3, 3), activation='relu'))\n",
        "\n",
        "# adiciona outra camadade maxpooling\n",
        "\n",
        "modelo.add(MaxPool2D())\n",
        "\n",
        "# transforma o formato matricial em vetor\n",
        "\n",
        "modelo.add(Flatten())\n",
        "\n",
        "# adiciona a camada densa\n",
        "\n",
        "modelo.add(Dense(128, activation='relu'))\n",
        "\n",
        "# adiciona outra camada densa para reduzir o tamanho final. sigmoid foi escolhida por ser apenas ou cavalo ou humano.\n",
        "\n",
        "modelo.add(Dense(1, activation='sigmoid'))"
      ],
      "metadata": {
        "id": "Xi8JSlauTxtO"
      },
      "execution_count": 29,
      "outputs": []
    },
    {
      "cell_type": "code",
      "source": [
        "modelo.summary()"
      ],
      "metadata": {
        "colab": {
          "base_uri": "https://localhost:8080/"
        },
        "id": "qChGGpDIT-Mz",
        "outputId": "a02cb5d1-3ae9-4f28-d6e0-81e9f3b76554"
      },
      "execution_count": 30,
      "outputs": [
        {
          "output_type": "stream",
          "name": "stdout",
          "text": [
            "Model: \"sequential_4\"\n",
            "_________________________________________________________________\n",
            " Layer (type)                Output Shape              Param #   \n",
            "=================================================================\n",
            " conv2d_8 (Conv2D)           (None, 298, 298, 64)      1792      \n",
            "                                                                 \n",
            " max_pooling2d_8 (MaxPooling  (None, 149, 149, 64)     0         \n",
            " 2D)                                                             \n",
            "                                                                 \n",
            " conv2d_9 (Conv2D)           (None, 147, 147, 128)     73856     \n",
            "                                                                 \n",
            " max_pooling2d_9 (MaxPooling  (None, 73, 73, 128)      0         \n",
            " 2D)                                                             \n",
            "                                                                 \n",
            " flatten_4 (Flatten)         (None, 682112)            0         \n",
            "                                                                 \n",
            " dense_8 (Dense)             (None, 128)               87310464  \n",
            "                                                                 \n",
            " dense_9 (Dense)             (None, 1)                 129       \n",
            "                                                                 \n",
            "=================================================================\n",
            "Total params: 87,386,241\n",
            "Trainable params: 87,386,241\n",
            "Non-trainable params: 0\n",
            "_________________________________________________________________\n"
          ]
        }
      ]
    },
    {
      "cell_type": "markdown",
      "source": [
        "compila utilizando otimizador e métrica de acurácia"
      ],
      "metadata": {
        "id": "6HW58B2ngAAI"
      }
    },
    {
      "cell_type": "code",
      "source": [
        "modelo.compile(optimizer= 'rmsprop',\n",
        "               loss= 'binary_crossentropy',\n",
        "               metrics= ['accuracy'])"
      ],
      "metadata": {
        "id": "LIueSC35W62f"
      },
      "execution_count": 31,
      "outputs": []
    },
    {
      "cell_type": "code",
      "source": [
        "from keras_preprocessing.image import ImageDataGenerator\n",
        "\n",
        "diretorio_treino = '/content/drive/MyDrive/horse-or-human/train'\n",
        "diretorio_validacao = '/content/drive/MyDrive/horse-or-human/validation'\n",
        "\n",
        "# 255 é o valor do pixel (estamos forçando)\n",
        "\n",
        "train_data = ImageDataGenerator(rescale=1./255)\n",
        "\n",
        "# percorre o diretorio e deixa o tamanho 300x300 e em formato binário\n",
        "\n",
        "train = train_data.flow_from_directory(diretorio_treino,\n",
        "                                       target_size= (300, 300),\n",
        "                                       class_mode = 'binary',\n",
        "                                       batch_size = 32)\n",
        "\n",
        "# com o código mais curto, usando validação\n",
        "\n",
        "validation = ImageDataGenerator(rescale=1./255).flow_from_directory(diretorio_validacao,\n",
        "                                       target_size= (300, 300),\n",
        "                                       class_mode = 'binary',\n",
        "                                       batch_size = 32)"
      ],
      "metadata": {
        "colab": {
          "base_uri": "https://localhost:8080/"
        },
        "id": "lmq0BeLwfD9-",
        "outputId": "fe77ff96-28a5-4732-b588-160644f8b03f"
      },
      "execution_count": 32,
      "outputs": [
        {
          "output_type": "stream",
          "name": "stdout",
          "text": [
            "Found 1027 images belonging to 2 classes.\n",
            "Found 256 images belonging to 2 classes.\n"
          ]
        }
      ]
    },
    {
      "cell_type": "code",
      "source": [
        "modelo.fit_generator(train,\n",
        "           steps_per_epoch = len(train.filenames) / 32,\n",
        "           epochs = 10,\n",
        "           validation_data = validation,\n",
        "           verbose = 1)"
      ],
      "metadata": {
        "colab": {
          "base_uri": "https://localhost:8080/"
        },
        "id": "fML7RF19gejh",
        "outputId": "65c5e735-c973-49d9-f96f-00000194310e"
      },
      "execution_count": 33,
      "outputs": [
        {
          "output_type": "stream",
          "name": "stderr",
          "text": [
            "<ipython-input-33-3addb4a4531e>:1: UserWarning: `Model.fit_generator` is deprecated and will be removed in a future version. Please use `Model.fit`, which supports generators.\n",
            "  modelo.fit_generator(train,\n"
          ]
        },
        {
          "output_type": "stream",
          "name": "stdout",
          "text": [
            "Epoch 1/10\n",
            "32/32 [==============================] - 12s 337ms/step - loss: 8.1162 - accuracy: 0.6660 - val_loss: 1.9987 - val_accuracy: 0.6797\n",
            "Epoch 2/10\n",
            "32/32 [==============================] - 10s 320ms/step - loss: 0.8918 - accuracy: 0.8608 - val_loss: 3.7250 - val_accuracy: 0.7109\n",
            "Epoch 3/10\n",
            "32/32 [==============================] - 11s 333ms/step - loss: 0.4465 - accuracy: 0.9192 - val_loss: 2.6011 - val_accuracy: 0.7656\n",
            "Epoch 4/10\n",
            "32/32 [==============================] - 11s 335ms/step - loss: 0.8348 - accuracy: 0.9630 - val_loss: 3.7407 - val_accuracy: 0.8242\n",
            "Epoch 5/10\n",
            "32/32 [==============================] - 10s 322ms/step - loss: 0.0614 - accuracy: 0.9786 - val_loss: 2.5348 - val_accuracy: 0.8398\n",
            "Epoch 6/10\n",
            "32/32 [==============================] - 11s 324ms/step - loss: 0.1818 - accuracy: 0.9620 - val_loss: 5.0301 - val_accuracy: 0.7617\n",
            "Epoch 7/10\n",
            "32/32 [==============================] - 10s 324ms/step - loss: 0.0083 - accuracy: 0.9971 - val_loss: 5.1215 - val_accuracy: 0.8281\n",
            "Epoch 8/10\n",
            "32/32 [==============================] - 11s 324ms/step - loss: 4.0675e-05 - accuracy: 1.0000 - val_loss: 5.0745 - val_accuracy: 0.8438\n",
            "Epoch 9/10\n",
            "32/32 [==============================] - 10s 323ms/step - loss: 0.9975 - accuracy: 0.9611 - val_loss: 4.7419 - val_accuracy: 0.7930\n",
            "Epoch 10/10\n",
            "32/32 [==============================] - 10s 323ms/step - loss: 7.1965e-04 - accuracy: 1.0000 - val_loss: 6.1587 - val_accuracy: 0.7812\n"
          ]
        },
        {
          "output_type": "execute_result",
          "data": {
            "text/plain": [
              "<keras.callbacks.History at 0x7fa5732daa60>"
            ]
          },
          "metadata": {},
          "execution_count": 33
        }
      ]
    }
  ]
}