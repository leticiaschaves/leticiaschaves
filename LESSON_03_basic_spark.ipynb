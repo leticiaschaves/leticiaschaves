{
  "cells": [
    {
      "cell_type": "markdown",
      "metadata": {
        "id": "view-in-github",
        "colab_type": "text"
      },
      "source": [
        "<a href=\"https://colab.research.google.com/github/leticiaschaves/leticiaschaves/blob/data-projects/LESSON_03_basic_spark.ipynb\" target=\"_parent\"><img src=\"https://colab.research.google.com/assets/colab-badge.svg\" alt=\"Open In Colab\"/></a>"
      ]
    },
    {
      "cell_type": "markdown",
      "metadata": {
        "id": "1rr7USXX-BAW"
      },
      "source": [
        "# Exercício de Spark básico"
      ]
    },
    {
      "cell_type": "markdown",
      "metadata": {
        "id": "jcd6Prgx-BAa"
      },
      "source": [
        "#### Use o arquivo walmart_stock.csv para responder e completar as tarefas abaixo:"
      ]
    },
    {
      "cell_type": "markdown",
      "metadata": {
        "id": "gJeKk2q4-BAa"
      },
      "source": [
        "#### Inicie uma sessão Pyspark simples:"
      ]
    },
    {
      "cell_type": "code",
      "execution_count": null,
      "metadata": {
        "id": "qYO3inqL-BAb",
        "colab": {
          "base_uri": "https://localhost:8080/"
        },
        "outputId": "52f4d9a1-f7cd-4e90-afac-0b39ed3a5731"
      },
      "outputs": [
        {
          "output_type": "stream",
          "name": "stdout",
          "text": [
            "Looking in indexes: https://pypi.org/simple, https://us-python.pkg.dev/colab-wheels/public/simple/\n",
            "Collecting pyspark\n",
            "  Downloading pyspark-3.3.1.tar.gz (281.4 MB)\n",
            "\u001b[K     |████████████████████████████████| 281.4 MB 44 kB/s \n",
            "\u001b[?25hCollecting py4j==0.10.9.5\n",
            "  Downloading py4j-0.10.9.5-py2.py3-none-any.whl (199 kB)\n",
            "\u001b[K     |████████████████████████████████| 199 kB 59.1 MB/s \n",
            "\u001b[?25hBuilding wheels for collected packages: pyspark\n",
            "  Building wheel for pyspark (setup.py) ... \u001b[?25l\u001b[?25hdone\n",
            "  Created wheel for pyspark: filename=pyspark-3.3.1-py2.py3-none-any.whl size=281845514 sha256=15fa2d244b86a3683218727a6d3cbb9c33c8f8f0f4914e3a041033d8c8d2186c\n",
            "  Stored in directory: /root/.cache/pip/wheels/42/59/f5/79a5bf931714dcd201b26025347785f087370a10a3329a899c\n",
            "Successfully built pyspark\n",
            "Installing collected packages: py4j, pyspark\n",
            "Successfully installed py4j-0.10.9.5 pyspark-3.3.1\n"
          ]
        }
      ],
      "source": [
        "%pip install pyspark"
      ]
    },
    {
      "cell_type": "code",
      "execution_count": null,
      "metadata": {
        "id": "2kUfNQqW-BAe"
      },
      "outputs": [],
      "source": [
        "from pyspark.sql import SparkSession"
      ]
    },
    {
      "cell_type": "code",
      "source": [
        "spark = SparkSession.builder.appName(\"teste\").getOrCreate()"
      ],
      "metadata": {
        "id": "vKEuUye7JFet"
      },
      "execution_count": null,
      "outputs": []
    },
    {
      "cell_type": "code",
      "source": [
        "import pyspark.sql.functions as F"
      ],
      "metadata": {
        "id": "OGdNAyI6JIa_"
      },
      "execution_count": null,
      "outputs": []
    },
    {
      "cell_type": "code",
      "source": [
        "from pyspark.sql.types import StringType,BooleanType,DateType"
      ],
      "metadata": {
        "id": "TlZC2gP1MdJu"
      },
      "execution_count": null,
      "outputs": []
    },
    {
      "cell_type": "markdown",
      "metadata": {
        "id": "TnHN70sH-BAd"
      },
      "source": [
        "#### Carregue o arquivo CSV *Walmart Stock*."
      ]
    },
    {
      "cell_type": "code",
      "source": [
        "dfWalmart = spark.read.csv(\"/content/walmart_stock.csv\", header=True)"
      ],
      "metadata": {
        "id": "KTv7b3bPJAk1"
      },
      "execution_count": null,
      "outputs": []
    },
    {
      "cell_type": "markdown",
      "metadata": {
        "id": "k6cgWRje-BAe"
      },
      "source": [
        "#### Quais são os nomes das colunas?"
      ]
    },
    {
      "cell_type": "code",
      "execution_count": null,
      "metadata": {
        "id": "VYrhsUnd-BAf",
        "jupyter": {
          "outputs_hidden": false
        },
        "colab": {
          "base_uri": "https://localhost:8080/"
        },
        "outputId": "7866d8fe-47fd-4a84-9b42-9e9757025447"
      },
      "outputs": [
        {
          "output_type": "execute_result",
          "data": {
            "text/plain": [
              "['Date', 'Open', 'High', 'Low', 'Close', 'Volume', 'Adj Close']"
            ]
          },
          "metadata": {},
          "execution_count": 18
        }
      ],
      "source": [
        "dfWalmart.columns"
      ]
    },
    {
      "cell_type": "markdown",
      "metadata": {
        "id": "JazDgq58-BAf"
      },
      "source": [
        "#### Como é o *schema* do dataframe?"
      ]
    },
    {
      "cell_type": "code",
      "execution_count": null,
      "metadata": {
        "id": "uBPdoerc-BAg",
        "jupyter": {
          "outputs_hidden": false
        },
        "colab": {
          "base_uri": "https://localhost:8080/"
        },
        "outputId": "536abaad-5c5a-4dd0-d881-0065e6f132aa"
      },
      "outputs": [
        {
          "output_type": "execute_result",
          "data": {
            "text/plain": [
              "<bound method DataFrame.printSchema of DataFrame[Date: string, Open: string, High: string, Low: string, Close: string, Volume: string, Adj Close: string]>"
            ]
          },
          "metadata": {},
          "execution_count": 19
        }
      ],
      "source": [
        "dfWalmart.printSchema"
      ]
    },
    {
      "cell_type": "markdown",
      "metadata": {
        "id": "FBlBD3eP-BAg"
      },
      "source": [
        "#### Imprima as 5 primeiras linhas:"
      ]
    },
    {
      "cell_type": "code",
      "execution_count": null,
      "metadata": {
        "id": "uxYgb5zD-BAh",
        "jupyter": {
          "outputs_hidden": false
        },
        "colab": {
          "base_uri": "https://localhost:8080/"
        },
        "outputId": "e579f508-4b8b-4433-dc93-6047bf46c63b"
      },
      "outputs": [
        {
          "output_type": "stream",
          "name": "stdout",
          "text": [
            "+----------+------------------+---------+---------+------------------+--------+------------------+\n",
            "|      Date|              Open|     High|      Low|             Close|  Volume|         Adj Close|\n",
            "+----------+------------------+---------+---------+------------------+--------+------------------+\n",
            "|2012-01-03|         59.970001|61.060001|59.869999|         60.330002|12668800|52.619234999999996|\n",
            "|2012-01-04|60.209998999999996|60.349998|59.470001|59.709998999999996| 9593300|         52.078475|\n",
            "|2012-01-05|         59.349998|59.619999|58.369999|         59.419998|12768200|         51.825539|\n",
            "|2012-01-06|         59.419998|59.450001|58.869999|              59.0| 8069400|          51.45922|\n",
            "|2012-01-09|         59.029999|59.549999|58.919998|             59.18| 6679300|51.616215000000004|\n",
            "+----------+------------------+---------+---------+------------------+--------+------------------+\n",
            "only showing top 5 rows\n",
            "\n"
          ]
        }
      ],
      "source": [
        "dfWalmart.show(5)"
      ]
    },
    {
      "cell_type": "code",
      "source": [
        "df = dfWalmart"
      ],
      "metadata": {
        "id": "8Q-2gXYdPDwN"
      },
      "execution_count": null,
      "outputs": []
    },
    {
      "cell_type": "code",
      "source": [
        "x = list(df.columns)"
      ],
      "metadata": {
        "id": "p6mKcZtGSKJ0"
      },
      "execution_count": null,
      "outputs": []
    },
    {
      "cell_type": "code",
      "source": [
        "x.remove('Date')"
      ],
      "metadata": {
        "id": "lrvPL9NBSZWE"
      },
      "execution_count": null,
      "outputs": []
    },
    {
      "cell_type": "code",
      "source": [
        "x"
      ],
      "metadata": {
        "colab": {
          "base_uri": "https://localhost:8080/"
        },
        "id": "vO4SEDkmShE4",
        "outputId": "3d6454ba-2e4d-4d25-944b-d16f9858357a"
      },
      "execution_count": null,
      "outputs": [
        {
          "output_type": "execute_result",
          "data": {
            "text/plain": [
              "['Open', 'High', 'Low', 'Close', 'Volume', 'Adj Close']"
            ]
          },
          "metadata": {},
          "execution_count": 46
        }
      ]
    },
    {
      "cell_type": "code",
      "source": [
        "for coluna in x: \n",
        "  df = df.withColumn(coluna, F.col(coluna).cast('float'))"
      ],
      "metadata": {
        "id": "dO4RMnWyKr-K"
      },
      "execution_count": null,
      "outputs": []
    },
    {
      "cell_type": "code",
      "source": [
        "df.printSchema()"
      ],
      "metadata": {
        "colab": {
          "base_uri": "https://localhost:8080/"
        },
        "id": "6N_Gb2SPPBdk",
        "outputId": "cad40ad1-d795-41fb-969e-f5715fc44148"
      },
      "execution_count": null,
      "outputs": [
        {
          "output_type": "stream",
          "name": "stdout",
          "text": [
            "root\n",
            " |-- Date: string (nullable = true)\n",
            " |-- Open: float (nullable = true)\n",
            " |-- High: float (nullable = true)\n",
            " |-- Low: float (nullable = true)\n",
            " |-- Close: float (nullable = true)\n",
            " |-- Volume: float (nullable = true)\n",
            " |-- Adj Close: float (nullable = true)\n",
            "\n"
          ]
        }
      ]
    },
    {
      "cell_type": "markdown",
      "metadata": {
        "id": "jrGfouSx-BAh"
      },
      "source": [
        "#### Use describe() para saber mais sobre o dataframe"
      ]
    },
    {
      "cell_type": "code",
      "execution_count": null,
      "metadata": {
        "id": "KMRhRON6-BAi",
        "jupyter": {
          "outputs_hidden": false
        },
        "colab": {
          "base_uri": "https://localhost:8080/"
        },
        "outputId": "57946676-a79d-4dab-df4c-cda4c9c90a2d"
      },
      "outputs": [
        {
          "output_type": "execute_result",
          "data": {
            "text/plain": [
              "DataFrame[summary: string, Date: string, Open: string, High: string, Low: string, Close: string, Volume: string, Adj Close: string]"
            ]
          },
          "metadata": {},
          "execution_count": 51
        }
      ],
      "source": [
        "df.describe()"
      ]
    },
    {
      "cell_type": "markdown",
      "metadata": {
        "id": "cGnAlA6FHz3Q"
      },
      "source": [
        "#### Qual é a data onde a coluna \"High\" tem o maior valor?"
      ]
    },
    {
      "cell_type": "code",
      "execution_count": null,
      "metadata": {
        "id": "ujZDHtkzHz3Q",
        "colab": {
          "base_uri": "https://localhost:8080/"
        },
        "outputId": "fbd0e982-2e12-48b9-b38b-4a360989dc3e"
      },
      "outputs": [
        {
          "output_type": "stream",
          "name": "stdout",
          "text": [
            "+----------+-----+-----+----+-----+---------+---------+\n",
            "|      Date| Open| High| Low|Close|   Volume|Adj Close|\n",
            "+----------+-----+-----+----+-----+---------+---------+\n",
            "|2015-11-13|56.74|57.06|56.3|56.42|1.25149E7|53.975582|\n",
            "+----------+-----+-----+----+-----+---------+---------+\n",
            "only showing top 1 row\n",
            "\n"
          ]
        }
      ],
      "source": [
        "df.orderBy('High').show(1)"
      ]
    },
    {
      "cell_type": "markdown",
      "metadata": {
        "id": "E5ka655zHz3R"
      },
      "source": [
        "#### Qual a média da coluna \"Close\"?"
      ]
    },
    {
      "cell_type": "code",
      "execution_count": null,
      "metadata": {
        "id": "CJU5ADRSHz3R",
        "colab": {
          "base_uri": "https://localhost:8080/"
        },
        "outputId": "6e571979-a01e-413a-b752-dfe6911fd079"
      },
      "outputs": [
        {
          "output_type": "stream",
          "name": "stdout",
          "text": [
            "+-----------------+\n",
            "|       avg(Close)|\n",
            "+-----------------+\n",
            "|72.38844997363553|\n",
            "+-----------------+\n",
            "\n"
          ]
        }
      ],
      "source": [
        "df.select(F.avg('Close')).show()"
      ]
    },
    {
      "cell_type": "markdown",
      "metadata": {
        "id": "CZpanSpgHz3S"
      },
      "source": [
        "#### Qual o mínimo e o máximo da coluna \"Volume\"?"
      ]
    },
    {
      "cell_type": "code",
      "execution_count": null,
      "metadata": {
        "id": "OtRkGernHz3S",
        "colab": {
          "base_uri": "https://localhost:8080/"
        },
        "outputId": "b1474cd1-9b5d-4e1e-87ec-71d85fc288ac"
      },
      "outputs": [
        {
          "output_type": "stream",
          "name": "stdout",
          "text": [
            "+-----------+-----------+\n",
            "|min(Volume)|max(Volume)|\n",
            "+-----------+-----------+\n",
            "|  2094900.0|8.0898096E7|\n",
            "+-----------+-----------+\n",
            "\n"
          ]
        }
      ],
      "source": [
        "df.select(F.min('Volume'), F.max('Volume')).show()"
      ]
    },
    {
      "cell_type": "markdown",
      "metadata": {
        "id": "UPp3OTU0Hz3T"
      },
      "source": [
        "#### Em quantos dias a coluna \"Close\" foi menor que 60 dólares?"
      ]
    },
    {
      "cell_type": "code",
      "execution_count": null,
      "metadata": {
        "id": "YCILqAgQHz3T",
        "colab": {
          "base_uri": "https://localhost:8080/"
        },
        "outputId": "7beee91f-36a3-4fbd-e577-a2fa3d025ce8"
      },
      "outputs": [
        {
          "output_type": "execute_result",
          "data": {
            "text/plain": [
              "81"
            ]
          },
          "metadata": {},
          "execution_count": 59
        }
      ],
      "source": [
        "df.filter(df['Close']<60).count()"
      ]
    },
    {
      "cell_type": "markdown",
      "metadata": {
        "id": "YwZNCr8pHz3T"
      },
      "source": [
        "#### Qual a porcentagem de dias onde a coluna \"High\" foi maior que 80 dólares?\n",
        "Ou seja, $\\frac{dias\\_onde\\_High > 80}{total\\_de\\_dias}$"
      ]
    },
    {
      "cell_type": "code",
      "execution_count": null,
      "metadata": {
        "id": "qOI43OgGHz3U",
        "colab": {
          "base_uri": "https://localhost:8080/"
        },
        "outputId": "2320a393-12a0-4ffb-a60c-e944330f0058"
      },
      "outputs": [
        {
          "output_type": "execute_result",
          "data": {
            "text/plain": [
              "0.09141494435612083"
            ]
          },
          "metadata": {},
          "execution_count": 64
        }
      ],
      "source": [
        "df.filter(df['High']>80).count()/df.count()"
      ]
    },
    {
      "cell_type": "markdown",
      "metadata": {
        "id": "pnObMck1Hz3U"
      },
      "source": [
        "#### Calcule a correlação de Pearson entre as colunas \"High\" e \"Volume\":\n",
        "[Dica](https://spark.apache.org/docs/latest/api/python/reference/pyspark.sql/api/pyspark.sql.functions.corr.html)"
      ]
    },
    {
      "cell_type": "code",
      "execution_count": null,
      "metadata": {
        "id": "1Wsxi3USHz3V",
        "colab": {
          "base_uri": "https://localhost:8080/"
        },
        "outputId": "bec5e9e5-fead-40ee-8fd8-5c38a7305309"
      },
      "outputs": [
        {
          "output_type": "stream",
          "name": "stdout",
          "text": [
            "+-------------------+\n",
            "| corr(High, Volume)|\n",
            "+-------------------+\n",
            "|-0.3384326095027024|\n",
            "+-------------------+\n",
            "\n"
          ]
        }
      ],
      "source": [
        "df.select(F.corr(F.col('High'), F.col('Volume'))).show()"
      ]
    },
    {
      "cell_type": "markdown",
      "metadata": {
        "id": "py5FHorEHz3V"
      },
      "source": [
        "#### Qual é o máximo obtido na coluna \"High\" por ano?"
      ]
    },
    {
      "cell_type": "code",
      "execution_count": null,
      "metadata": {
        "id": "AuvvX3EDHz3V",
        "colab": {
          "base_uri": "https://localhost:8080/"
        },
        "outputId": "8bc58ae5-6d0b-464e-eef6-b9ee4881e586"
      },
      "outputs": [
        {
          "output_type": "stream",
          "name": "stdout",
          "text": [
            "+----+---------+---------+--------+----------+-----------+--------------+--------+\n",
            "| Ano|max(Open)|max(High)|max(Low)|max(Close)|max(Volume)|max(Adj Close)|max(Ano)|\n",
            "+----+---------+---------+--------+----------+-----------+--------------+--------+\n",
            "|2015|     90.8|    90.97|   89.25|     90.47|8.0898096E7|     84.914215|    2015|\n",
            "|2013|    81.21|    81.37|   80.82|     81.21|  2.56837E7|      73.92987|    2013|\n",
            "|2014|    87.08|    88.09|   86.48|     87.54|  2.28124E7|      81.70768|    2014|\n",
            "|2012|     77.6|     77.6|   76.69|     77.15|  3.80073E7|     68.568375|    2012|\n",
            "|2016|     74.5|    75.19|   73.63|      74.3|  3.50767E7|      73.23352|    2016|\n",
            "+----+---------+---------+--------+----------+-----------+--------------+--------+\n",
            "\n"
          ]
        }
      ],
      "source": [
        "df.withColumn('Ano', F.year(F.col('Date'))).groupBy('Ano').max().show()"
      ]
    },
    {
      "cell_type": "markdown",
      "metadata": {
        "id": "TZHxE1cIHz3W"
      },
      "source": [
        "#### Qual a média da coluna \"Close\" para cada mês (para todos os anos)?\n"
      ]
    },
    {
      "cell_type": "code",
      "execution_count": null,
      "metadata": {
        "id": "9UCuLo48Hz3W",
        "colab": {
          "base_uri": "https://localhost:8080/"
        },
        "outputId": "779bfefe-7bcb-4cdb-87f2-3c8af08c0d29"
      },
      "outputs": [
        {
          "output_type": "stream",
          "name": "stdout",
          "text": [
            "+---+-----------------+\n",
            "|Mes|       avg(Close)|\n",
            "+---+-----------------+\n",
            "| 12|72.84792482628012|\n",
            "|  1| 71.4480196131338|\n",
            "|  6| 72.4953774506191|\n",
            "|  3|71.77794376266337|\n",
            "|  5|72.30971685445533|\n",
            "|  9|72.18411782208611|\n",
            "|  4|72.97361900692894|\n",
            "|  8| 73.0298185521906|\n",
            "|  7|74.43971944078106|\n",
            "| 10| 71.5785454489968|\n",
            "| 11|72.11108927207418|\n",
            "|  2|71.30680438169499|\n",
            "+---+-----------------+\n",
            "\n"
          ]
        }
      ],
      "source": [
        "df.withColumn('Mes', F.month(F.col('Date'))).groupBy('Mes').avg().select(['Mes', 'avg(Close)']).show()"
      ]
    },
    {
      "cell_type": "markdown",
      "metadata": {
        "id": "_zgrva_mHz3W"
      },
      "source": [
        "# Bom trabalho!"
      ]
    }
  ],
  "metadata": {
    "anaconda-cloud": {},
    "colab": {
      "provenance": [],
      "collapsed_sections": [
        "jcd6Prgx-BAa",
        "gJeKk2q4-BAa",
        "TnHN70sH-BAd",
        "k6cgWRje-BAe",
        "JazDgq58-BAf",
        "FBlBD3eP-BAg",
        "jrGfouSx-BAh",
        "cGnAlA6FHz3Q",
        "E5ka655zHz3R",
        "CZpanSpgHz3S",
        "UPp3OTU0Hz3T",
        "_zgrva_mHz3W"
      ],
      "include_colab_link": true
    },
    "kernelspec": {
      "display_name": "Python 3 (ipykernel)",
      "language": "python",
      "name": "python3"
    },
    "language_info": {
      "codemirror_mode": {
        "name": "ipython",
        "version": 3
      },
      "file_extension": ".py",
      "mimetype": "text/x-python",
      "name": "python",
      "nbconvert_exporter": "python",
      "pygments_lexer": "ipython3",
      "version": "3.10.4"
    }
  },
  "nbformat": 4,
  "nbformat_minor": 0
}